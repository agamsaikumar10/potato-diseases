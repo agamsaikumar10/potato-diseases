{
  "cells": [
    {
      "cell_type": "code",
      "execution_count": null,
      "metadata": {
        "colab": {
          "base_uri": "https://localhost:8080/"
        },
        "id": "BciXudOMZpWg",
        "outputId": "fb4f63a2-c182-4f4f-bc9e-de88fde339ce"
      },
      "outputs": [
        {
          "output_type": "stream",
          "name": "stdout",
          "text": [
            "Collecting timm\n",
            "  Downloading timm-0.9.16-py3-none-any.whl (2.2 MB)\n",
            "\u001b[2K     \u001b[90m━━━━━━━━━━━━━━━━━━━━━━━━━━━━━━━━━━━━━━━━\u001b[0m \u001b[32m2.2/2.2 MB\u001b[0m \u001b[31m11.0 MB/s\u001b[0m eta \u001b[36m0:00:00\u001b[0m\n",
            "\u001b[?25hRequirement already satisfied: torch in /usr/local/lib/python3.10/dist-packages (from timm) (2.2.1+cu121)\n",
            "Requirement already satisfied: torchvision in /usr/local/lib/python3.10/dist-packages (from timm) (0.17.1+cu121)\n",
            "Requirement already satisfied: pyyaml in /usr/local/lib/python3.10/dist-packages (from timm) (6.0.1)\n",
            "Requirement already satisfied: huggingface_hub in /usr/local/lib/python3.10/dist-packages (from timm) (0.20.3)\n",
            "Requirement already satisfied: safetensors in /usr/local/lib/python3.10/dist-packages (from timm) (0.4.3)\n",
            "Requirement already satisfied: filelock in /usr/local/lib/python3.10/dist-packages (from huggingface_hub->timm) (3.14.0)\n",
            "Requirement already satisfied: fsspec>=2023.5.0 in /usr/local/lib/python3.10/dist-packages (from huggingface_hub->timm) (2023.6.0)\n",
            "Requirement already satisfied: requests in /usr/local/lib/python3.10/dist-packages (from huggingface_hub->timm) (2.31.0)\n",
            "Requirement already satisfied: tqdm>=4.42.1 in /usr/local/lib/python3.10/dist-packages (from huggingface_hub->timm) (4.66.4)\n",
            "Requirement already satisfied: typing-extensions>=3.7.4.3 in /usr/local/lib/python3.10/dist-packages (from huggingface_hub->timm) (4.11.0)\n",
            "Requirement already satisfied: packaging>=20.9 in /usr/local/lib/python3.10/dist-packages (from huggingface_hub->timm) (24.0)\n",
            "Requirement already satisfied: sympy in /usr/local/lib/python3.10/dist-packages (from torch->timm) (1.12)\n",
            "Requirement already satisfied: networkx in /usr/local/lib/python3.10/dist-packages (from torch->timm) (3.3)\n",
            "Requirement already satisfied: jinja2 in /usr/local/lib/python3.10/dist-packages (from torch->timm) (3.1.3)\n",
            "Collecting nvidia-cuda-nvrtc-cu12==12.1.105 (from torch->timm)\n",
            "  Using cached nvidia_cuda_nvrtc_cu12-12.1.105-py3-none-manylinux1_x86_64.whl (23.7 MB)\n",
            "Collecting nvidia-cuda-runtime-cu12==12.1.105 (from torch->timm)\n",
            "  Using cached nvidia_cuda_runtime_cu12-12.1.105-py3-none-manylinux1_x86_64.whl (823 kB)\n",
            "Collecting nvidia-cuda-cupti-cu12==12.1.105 (from torch->timm)\n",
            "  Using cached nvidia_cuda_cupti_cu12-12.1.105-py3-none-manylinux1_x86_64.whl (14.1 MB)\n",
            "Collecting nvidia-cudnn-cu12==8.9.2.26 (from torch->timm)\n",
            "  Using cached nvidia_cudnn_cu12-8.9.2.26-py3-none-manylinux1_x86_64.whl (731.7 MB)\n",
            "Collecting nvidia-cublas-cu12==12.1.3.1 (from torch->timm)\n",
            "  Using cached nvidia_cublas_cu12-12.1.3.1-py3-none-manylinux1_x86_64.whl (410.6 MB)\n",
            "Collecting nvidia-cufft-cu12==11.0.2.54 (from torch->timm)\n",
            "  Using cached nvidia_cufft_cu12-11.0.2.54-py3-none-manylinux1_x86_64.whl (121.6 MB)\n",
            "Collecting nvidia-curand-cu12==10.3.2.106 (from torch->timm)\n",
            "  Using cached nvidia_curand_cu12-10.3.2.106-py3-none-manylinux1_x86_64.whl (56.5 MB)\n",
            "Collecting nvidia-cusolver-cu12==11.4.5.107 (from torch->timm)\n",
            "  Using cached nvidia_cusolver_cu12-11.4.5.107-py3-none-manylinux1_x86_64.whl (124.2 MB)\n",
            "Collecting nvidia-cusparse-cu12==12.1.0.106 (from torch->timm)\n",
            "  Using cached nvidia_cusparse_cu12-12.1.0.106-py3-none-manylinux1_x86_64.whl (196.0 MB)\n",
            "Collecting nvidia-nccl-cu12==2.19.3 (from torch->timm)\n",
            "  Using cached nvidia_nccl_cu12-2.19.3-py3-none-manylinux1_x86_64.whl (166.0 MB)\n",
            "Collecting nvidia-nvtx-cu12==12.1.105 (from torch->timm)\n",
            "  Using cached nvidia_nvtx_cu12-12.1.105-py3-none-manylinux1_x86_64.whl (99 kB)\n",
            "Requirement already satisfied: triton==2.2.0 in /usr/local/lib/python3.10/dist-packages (from torch->timm) (2.2.0)\n",
            "Collecting nvidia-nvjitlink-cu12 (from nvidia-cusolver-cu12==11.4.5.107->torch->timm)\n",
            "  Using cached nvidia_nvjitlink_cu12-12.4.127-py3-none-manylinux2014_x86_64.whl (21.1 MB)\n",
            "Requirement already satisfied: numpy in /usr/local/lib/python3.10/dist-packages (from torchvision->timm) (1.25.2)\n",
            "Requirement already satisfied: pillow!=8.3.*,>=5.3.0 in /usr/local/lib/python3.10/dist-packages (from torchvision->timm) (9.4.0)\n",
            "Requirement already satisfied: MarkupSafe>=2.0 in /usr/local/lib/python3.10/dist-packages (from jinja2->torch->timm) (2.1.5)\n",
            "Requirement already satisfied: charset-normalizer<4,>=2 in /usr/local/lib/python3.10/dist-packages (from requests->huggingface_hub->timm) (3.3.2)\n",
            "Requirement already satisfied: idna<4,>=2.5 in /usr/local/lib/python3.10/dist-packages (from requests->huggingface_hub->timm) (3.7)\n",
            "Requirement already satisfied: urllib3<3,>=1.21.1 in /usr/local/lib/python3.10/dist-packages (from requests->huggingface_hub->timm) (2.0.7)\n",
            "Requirement already satisfied: certifi>=2017.4.17 in /usr/local/lib/python3.10/dist-packages (from requests->huggingface_hub->timm) (2024.2.2)\n",
            "Requirement already satisfied: mpmath>=0.19 in /usr/local/lib/python3.10/dist-packages (from sympy->torch->timm) (1.3.0)\n",
            "Installing collected packages: nvidia-nvtx-cu12, nvidia-nvjitlink-cu12, nvidia-nccl-cu12, nvidia-curand-cu12, nvidia-cufft-cu12, nvidia-cuda-runtime-cu12, nvidia-cuda-nvrtc-cu12, nvidia-cuda-cupti-cu12, nvidia-cublas-cu12, nvidia-cusparse-cu12, nvidia-cudnn-cu12, nvidia-cusolver-cu12, timm\n",
            "Successfully installed nvidia-cublas-cu12-12.1.3.1 nvidia-cuda-cupti-cu12-12.1.105 nvidia-cuda-nvrtc-cu12-12.1.105 nvidia-cuda-runtime-cu12-12.1.105 nvidia-cudnn-cu12-8.9.2.26 nvidia-cufft-cu12-11.0.2.54 nvidia-curand-cu12-10.3.2.106 nvidia-cusolver-cu12-11.4.5.107 nvidia-cusparse-cu12-12.1.0.106 nvidia-nccl-cu12-2.19.3 nvidia-nvjitlink-cu12-12.4.127 nvidia-nvtx-cu12-12.1.105 timm-0.9.16\n"
          ]
        }
      ],
      "source": [
        "!pip install timm\n"
      ]
    },
    {
      "cell_type": "code",
      "execution_count": null,
      "metadata": {
        "colab": {
          "base_uri": "https://localhost:8080/"
        },
        "id": "bsfbmKzHG2qj",
        "outputId": "341f35f0-a0e1-49ae-b85e-3023c931e30b"
      },
      "outputs": [
        {
          "output_type": "stream",
          "name": "stdout",
          "text": [
            "Mounted at /content/drive\n"
          ]
        }
      ],
      "source": [
        "from google.colab import drive\n",
        "drive.mount(\"/content/drive\")\n"
      ]
    },
    {
      "cell_type": "code",
      "execution_count": null,
      "metadata": {
        "colab": {
          "base_uri": "https://localhost:8080/"
        },
        "id": "bcnARryDdJ6u",
        "outputId": "4ef02097-344c-43a1-d650-1e03311a4389"
      },
      "outputs": [
        {
          "output_type": "stream",
          "name": "stdout",
          "text": [
            "Epoch 1/22, Train Loss: 1.4079, Train Accuracy: 0.4658\n",
            "Epoch 2/22, Train Loss: 1.3632, Train Accuracy: 0.5700\n",
            "Epoch 3/22, Train Loss: 1.1881, Train Accuracy: 0.6156\n",
            "Epoch 4/22, Train Loss: 1.0127, Train Accuracy: 0.6254\n",
            "Epoch 5/22, Train Loss: 0.8639, Train Accuracy: 0.6938\n",
            "Epoch 6/22, Train Loss: 0.8261, Train Accuracy: 0.7166\n",
            "Epoch 7/22, Train Loss: 0.6706, Train Accuracy: 0.7883\n",
            "Epoch 8/22, Train Loss: 0.8207, Train Accuracy: 0.7394\n",
            "Epoch 9/22, Train Loss: 0.8165, Train Accuracy: 0.7068\n",
            "Epoch 10/22, Train Loss: 0.6787, Train Accuracy: 0.7687\n",
            "Epoch 11/22, Train Loss: 0.6589, Train Accuracy: 0.8306\n",
            "Epoch 12/22, Train Loss: 0.6916, Train Accuracy: 0.7459\n",
            "Epoch 13/22, Train Loss: 0.5317, Train Accuracy: 0.8371\n",
            "Epoch 14/22, Train Loss: 0.6351, Train Accuracy: 0.8143\n",
            "Epoch 15/22, Train Loss: 0.4948, Train Accuracy: 0.8469\n",
            "Epoch 16/22, Train Loss: 0.6377, Train Accuracy: 0.8013\n",
            "Epoch 17/22, Train Loss: 0.6617, Train Accuracy: 0.8176\n",
            "Epoch 18/22, Train Loss: 0.6173, Train Accuracy: 0.8046\n",
            "Epoch 19/22, Train Loss: 0.6490, Train Accuracy: 0.7948\n",
            "Epoch 20/22, Train Loss: 0.7853, Train Accuracy: 0.7524\n",
            "Epoch 21/22, Train Loss: 0.6200, Train Accuracy: 0.7980\n",
            "Epoch 22/22, Train Loss: 0.4015, Train Accuracy: 0.8827\n"
          ]
        }
      ],
      "source": [
        "\"\"\"defining transformations for data augmentation, setting up data loaders, creating a model using EfficientNetV2 architecture from timm, freezing some layers, defining loss function and optimizer, and then training the model.\n",
        " we are also tracking training progress with metrics like loss and accuracy. \"\"\"\n",
        "import os\n",
        "import torch\n",
        "import torch.nn as nn\n",
        "from torch.utils.data import DataLoader\n",
        "from torchvision import transforms, datasets\n",
        "import timm\n",
        "import matplotlib.pyplot as plt\n",
        "import tensorflow as tf\n",
        "\n",
        "# path dataset\n",
        "dataset_path = '/content/drive/MyDrive/dataset_split/'\n",
        "\n",
        "# Assuming subdirectories for training and validation are directly inside the dataset directory\n",
        "train_path = os.path.join(dataset_path, 'train')\n",
        "val_path = os.path.join(dataset_path, 'val')\n",
        "\n",
        "# Set device for model training\n",
        "device = torch.device(\"cuda\" if torch.cuda.is_available() else \"cpu\")\n",
        "\n",
        "# Define transformations with augmentation for training and validation sets\n",
        "train_transform = transforms.Compose([\n",
        "    transforms.RandomResizedCrop(224),\n",
        "    transforms.RandomHorizontalFlip(),\n",
        "    transforms.ToTensor(),\n",
        "    transforms.Normalize([0.485, 0.456, 0.406], [0.229, 0.224, 0.225])\n",
        "])\n",
        "\n",
        "val_transform = transforms.Compose([\n",
        "    transforms.Resize(256),\n",
        "    transforms.CenterCrop(224),\n",
        "    transforms.ToTensor(),\n",
        "    transforms.Normalize([0.485, 0.456, 0.406], [0.229, 0.224, 0.225])\n",
        "])\n",
        "\n",
        "# Prepare data loaders\n",
        "train_dataset = datasets.ImageFolder(root=train_path, transform=train_transform)\n",
        "val_dataset = datasets.ImageFolder(root=val_path, transform=val_transform)\n",
        "train_loader = DataLoader(train_dataset, batch_size=16, shuffle=True)\n",
        "val_loader = DataLoader(val_dataset, batch_size=16, shuffle=False)\n",
        "\n",
        "# Model setup\n",
        "model = timm.create_model('tf_efficientnetv2_m.in21k_ft_in1k', pretrained=True)\n",
        "model.classifier = nn.Linear(model.classifier.in_features, len(train_dataset.classes))\n",
        "model = model.to(device)\n",
        "\n",
        "model.trainable = False\n",
        "\n",
        "  # Unfreeze some top layers for fine-tuning\n",
        "# Example: Unfreeze the last N layers\n",
        "N = 20\n",
        "# Get the total number of layers in the model\n",
        "total_layers = sum(1 for _ in model.parameters())\n",
        "\n",
        "# Unfreeze the top N layers\n",
        "num_layers_unfrozen = 0\n",
        "for name, param in model.named_parameters():\n",
        "    if num_layers_unfrozen < N:\n",
        "        param.requires_grad = True\n",
        "        num_layers_unfrozen += 1\n",
        "    else:\n",
        "        break\n",
        "\n",
        "# Ensure the changes are applied to the model\n",
        "model = model.to(device)\n",
        "\n",
        "# Define the criterion and optimizer\n",
        "criterion = nn.CrossEntropyLoss()\n",
        "optimizer = torch.optim.Adam(model.parameters(), lr=0.001)\n",
        "\n",
        "\n",
        "\n",
        "train_losses = []\n",
        "train_accuracies = []\n",
        "val_losses = []\n",
        "val_accuracies = []\n",
        "epochs=22\n",
        "\n",
        "for epoch in range(epochs):\n",
        "    model.train()\n",
        "    running_train_loss = 0.0\n",
        "    correct_train = 0\n",
        "    total_train = 0\n",
        "    for inputs, labels in train_loader:\n",
        "        inputs, labels = inputs.to(device), labels.to(device)\n",
        "        optimizer.zero_grad()\n",
        "        outputs = model(inputs)\n",
        "        loss = criterion(outputs, labels)\n",
        "        loss.backward()\n",
        "        optimizer.step()\n",
        "        running_train_loss += loss.item()\n",
        "\n",
        "        _, predicted = torch.max(outputs.data, 1)\n",
        "        total_train += labels.size(0)\n",
        "        correct_train += (predicted == labels).sum().item()\n",
        "\n",
        "    train_loss = running_train_loss / len(train_loader)\n",
        "    train_accuracy = correct_train / total_train\n",
        "    train_losses.append(train_loss)\n",
        "    train_accuracies.append(train_accuracy)\n",
        "\n",
        "    print(f'Epoch {epoch+1}/{epochs}, Train Loss: {train_loss:.4f}, Train Accuracy: {train_accuracy:.4f}')\n"
      ]
    },
    {
      "cell_type": "code",
      "source": [
        "\n",
        "# Validation\n",
        "for epoch in range(epochs):\n",
        "  model.eval()\n",
        "  running_val_loss = 0.0\n",
        "  correct_val = 0\n",
        "  total_val = 0\n",
        "  with torch.no_grad():\n",
        "      for inputs, labels in val_loader:\n",
        "          inputs, labels = inputs.to(device), labels.to(device)\n",
        "          outputs = model(inputs)\n",
        "          val_loss = criterion(outputs, labels)\n",
        "          running_val_loss += val_loss.item()\n",
        "\n",
        "          _, predicted = torch.max(outputs.data, 1)\n",
        "          total_val += labels.size(0)\n",
        "          correct_val += (predicted == labels).sum().item()\n",
        "\n",
        "  val_loss = running_val_loss / len(val_loader)\n",
        "  val_accuracy = correct_val / total_val\n",
        "  val_losses.append(val_loss)\n",
        "  val_accuracies.append(val_accuracy)\n",
        "\n",
        "  print(f'Validation Loss: {val_loss:.4f}, Validation Accuracy: {val_accuracy:.4f}')\n",
        "\n"
      ],
      "metadata": {
        "colab": {
          "base_uri": "https://localhost:8080/"
        },
        "id": "C1o8rq5A4omb",
        "outputId": "3090fa9b-7755-4d37-9b46-4b8f4fb0cca5"
      },
      "execution_count": null,
      "outputs": [
        {
          "output_type": "stream",
          "name": "stdout",
          "text": [
            "Validation Loss: 0.7812, Validation Accuracy: 0.7059\n",
            "Validation Loss: 0.7812, Validation Accuracy: 0.7059\n",
            "Validation Loss: 0.7812, Validation Accuracy: 0.7059\n",
            "Validation Loss: 0.7812, Validation Accuracy: 0.7059\n",
            "Validation Loss: 0.7812, Validation Accuracy: 0.7059\n",
            "Validation Loss: 0.7812, Validation Accuracy: 0.7059\n",
            "Validation Loss: 0.7812, Validation Accuracy: 0.7059\n",
            "Validation Loss: 0.7812, Validation Accuracy: 0.7059\n",
            "Validation Loss: 0.7812, Validation Accuracy: 0.7059\n",
            "Validation Loss: 0.7812, Validation Accuracy: 0.7059\n",
            "Validation Loss: 0.7812, Validation Accuracy: 0.7059\n",
            "Validation Loss: 0.7812, Validation Accuracy: 0.7059\n",
            "Validation Loss: 0.7812, Validation Accuracy: 0.7059\n",
            "Validation Loss: 0.7812, Validation Accuracy: 0.7059\n",
            "Validation Loss: 0.7812, Validation Accuracy: 0.7059\n",
            "Validation Loss: 0.7812, Validation Accuracy: 0.7059\n",
            "Validation Loss: 0.7812, Validation Accuracy: 0.7059\n",
            "Validation Loss: 0.7812, Validation Accuracy: 0.7059\n",
            "Validation Loss: 0.7812, Validation Accuracy: 0.7059\n",
            "Validation Loss: 0.7812, Validation Accuracy: 0.7059\n",
            "Validation Loss: 0.7812, Validation Accuracy: 0.7059\n",
            "Validation Loss: 0.7812, Validation Accuracy: 0.7059\n"
          ]
        }
      ]
    },
    {
      "cell_type": "code",
      "execution_count": null,
      "metadata": {
        "id": "NML5cpJtnMfn",
        "colab": {
          "base_uri": "https://localhost:8080/"
        },
        "outputId": "85b9a90b-dd7a-41db-adbe-0299a1e77858"
      },
      "outputs": [
        {
          "output_type": "stream",
          "name": "stdout",
          "text": [
            "Loss: 0.9298, Accuracy: 0.7143\n"
          ]
        }
      ],
      "source": [
        "dataset_path = '/content/drive/MyDrive/dataset_split/'\n",
        "\n",
        "# Assuming subdirectories for training and validation are directly inside the dataset directory\n",
        "test_path = os.path.join(dataset_path, 'test')\n",
        "\n",
        "\n",
        "# Prepare data loaders\n",
        "test_dataset = datasets.ImageFolder(root=test_path, transform=train_transform)\n",
        "test_loader = DataLoader(test_dataset, batch_size=16, shuffle=True)\n",
        "\n",
        "\n",
        "def evaluate_model(model, criterion, data_loader):\n",
        "    model.eval()\n",
        "    running_loss = 0.0\n",
        "    correct = 0\n",
        "    total = 0\n",
        "    with torch.no_grad():\n",
        "        for inputs, labels in data_loader:\n",
        "            inputs, labels = inputs.to(device), labels.to(device)\n",
        "            outputs = model(inputs)\n",
        "            loss = criterion(outputs, labels)\n",
        "            running_loss += loss.item()\n",
        "\n",
        "            _, predicted = torch.max(outputs.data, 1)\n",
        "            total += labels.size(0)\n",
        "            correct += (predicted == labels).sum().item()\n",
        "\n",
        "    loss = running_loss / len(data_loader)\n",
        "    accuracy = correct / total\n",
        "    print(f'Loss: {loss:.4f}, Accuracy: {accuracy:.4f}')\n",
        "\n",
        "\n",
        "evaluate_model(model, criterion, test_loader)\n"
      ]
    },
    {
      "cell_type": "code",
      "execution_count": null,
      "metadata": {
        "id": "fHqLJ_FPpQBl",
        "colab": {
          "base_uri": "https://localhost:8080/",
          "height": 507
        },
        "outputId": "da4e2160-615b-4255-8cbf-798331e12c6f"
      },
      "outputs": [
        {
          "output_type": "display_data",
          "data": {
            "text/plain": [
              "<Figure size 1000x500 with 2 Axes>"
            ],
            "image/png": "[encoded data removed]"
          },
          "metadata": {}
        }
      ],
      "source": [
        "import matplotlib.pyplot as plt\n",
        "\n",
        "def plot_metrics(train_losses, train_accuracies, val_losses=None, val_accuracies=None):\n",
        "    epochs = range(1, len(train_losses) + 1)\n",
        "\n",
        "    # Plotting training loss and accuracy\n",
        "    plt.figure(figsize=(10, 5))\n",
        "    plt.subplot(1, 2, 1)\n",
        "    plt.plot(epochs, train_losses, 'b', label='Training Loss')\n",
        "    if val_losses:\n",
        "        plt.plot(epochs, val_losses, 'r', label='Validation Loss')\n",
        "    plt.title('Training and Validation Loss')\n",
        "    plt.xlabel('Epochs')\n",
        "    plt.ylabel('Loss')\n",
        "    plt.legend()\n",
        "\n",
        "    plt.subplot(1, 2, 2)\n",
        "    plt.plot(epochs, train_accuracies, 'b', label='Training Accuracy')\n",
        "    if val_accuracies:\n",
        "        plt.plot(epochs, val_accuracies, 'r', label='Validation Accuracy')\n",
        "    plt.title('Training and Validation Accuracy')\n",
        "    plt.xlabel('Epochs')\n",
        "    plt.ylabel('Accuracy')\n",
        "    plt.legend()\n",
        "\n",
        "    plt.tight_layout()\n",
        "    plt.show()\n",
        "\n",
        "# Example usage\n",
        "plot_metrics(train_losses, train_accuracies, val_losses, val_accuracies)\n"
      ]
    }
  ],
  "metadata": {
    "accelerator": "GPU",
    "colab": {
      "gpuType": "T4",
      "provenance": []
    },
    "kernelspec": {
      "display_name": "Python 3",
      "name": "python3"
    },
    "language_info": {
      "name": "python"
    }
  },
  "nbformat": 4,
  "nbformat_minor": 0
}